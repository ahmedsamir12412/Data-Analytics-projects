{
 "cells": [
  {
   "cell_type": "markdown",
   "metadata": {},
   "source": [
    "# Project Name:  A/B testing for MuscleHub gym\n",
    "# By: Ahmed Samir\n",
    "***"
   ]
  },
  {
   "cell_type": "markdown",
   "metadata": {},
   "source": [
    "## Introduction"
   ]
  },
  {
   "cell_type": "markdown",
   "metadata": {},
   "source": [
    "Like most businesses, Janet keeps her data in a SQL database. So we have already downloaded the data from her database to a csv file, and will load it into our Jupyter Notebook using pandas to conduct A/B testing for the MuscleHub Gym."
   ]
  },
  {
   "cell_type": "markdown",
   "metadata": {},
   "source": [
    "Let's get started!"
   ]
  },
  {
   "cell_type": "markdown",
   "metadata": {},
   "source": [
    "# Import datasets"
   ]
  },
  {
   "cell_type": "markdown",
   "metadata": {},
   "source": [
    "Let's import the four csv files as pandas DataFrames and examine them. "
   ]
  },
  {
   "cell_type": "markdown",
   "metadata": {},
   "source": [
    "### Import needed packages "
   ]
  },
  {
   "cell_type": "code",
   "execution_count": 1,
   "metadata": {},
   "outputs": [
    {
     "name": "stdout",
     "output_type": "stream",
     "text": [
      "Setup completed\n"
     ]
    }
   ],
   "source": [
    "import numpy as np\n",
    "import pandas as pd\n",
    "import matplotlib.pyplot as plt\n",
    "import seaborn as sns\n",
    "\n",
    "%matplotlib inline\n",
    "\n",
    "import warnings\n",
    "warnings.filterwarnings('ignore')\n",
    "\n",
    "print('Setup completed')"
   ]
  },
  {
   "cell_type": "markdown",
   "metadata": {},
   "source": [
    "### load datasets"
   ]
  },
  {
   "cell_type": "markdown",
   "metadata": {},
   "source": [
    "#### Applications dataset"
   ]
  },
  {
   "cell_type": "code",
   "execution_count": 2,
   "metadata": {},
   "outputs": [
    {
     "data": {
      "text/html": [
       "<div>\n",
       "<style scoped>\n",
       "    .dataframe tbody tr th:only-of-type {\n",
       "        vertical-align: middle;\n",
       "    }\n",
       "\n",
       "    .dataframe tbody tr th {\n",
       "        vertical-align: top;\n",
       "    }\n",
       "\n",
       "    .dataframe thead th {\n",
       "        text-align: right;\n",
       "    }\n",
       "</style>\n",
       "<table border=\"1\" class=\"dataframe\">\n",
       "  <thead>\n",
       "    <tr style=\"text-align: right;\">\n",
       "      <th></th>\n",
       "      <th>first_name</th>\n",
       "      <th>last_name</th>\n",
       "      <th>email</th>\n",
       "      <th>gender</th>\n",
       "      <th>application_date</th>\n",
       "    </tr>\n",
       "  </thead>\n",
       "  <tbody>\n",
       "    <tr>\n",
       "      <th>476</th>\n",
       "      <td>Erika</td>\n",
       "      <td>Santana</td>\n",
       "      <td>ErikaSantana70@hotmail.com</td>\n",
       "      <td>female</td>\n",
       "      <td>2017-08-08</td>\n",
       "    </tr>\n",
       "    <tr>\n",
       "      <th>202</th>\n",
       "      <td>Colleen</td>\n",
       "      <td>Goodwin</td>\n",
       "      <td>Colleen.Goodwin@gmail.com</td>\n",
       "      <td>female</td>\n",
       "      <td>2017-07-18</td>\n",
       "    </tr>\n",
       "  </tbody>\n",
       "</table>\n",
       "</div>"
      ],
      "text/plain": [
       "    first_name last_name                       email  gender application_date\n",
       "476      Erika   Santana  ErikaSantana70@hotmail.com  female       2017-08-08\n",
       "202    Colleen   Goodwin   Colleen.Goodwin@gmail.com  female       2017-07-18"
      ]
     },
     "execution_count": 2,
     "metadata": {},
     "output_type": "execute_result"
    }
   ],
   "source": [
    "applications=pd.read_csv(\"applications.csv\")\n",
    "applications.sample(2)"
   ]
  },
  {
   "cell_type": "markdown",
   "metadata": {},
   "source": [
    "#### Fitness dataset"
   ]
  },
  {
   "cell_type": "code",
   "execution_count": 3,
   "metadata": {},
   "outputs": [
    {
     "data": {
      "text/html": [
       "<div>\n",
       "<style scoped>\n",
       "    .dataframe tbody tr th:only-of-type {\n",
       "        vertical-align: middle;\n",
       "    }\n",
       "\n",
       "    .dataframe tbody tr th {\n",
       "        vertical-align: top;\n",
       "    }\n",
       "\n",
       "    .dataframe thead th {\n",
       "        text-align: right;\n",
       "    }\n",
       "</style>\n",
       "<table border=\"1\" class=\"dataframe\">\n",
       "  <thead>\n",
       "    <tr style=\"text-align: right;\">\n",
       "      <th></th>\n",
       "      <th>first_name</th>\n",
       "      <th>last_name</th>\n",
       "      <th>email</th>\n",
       "      <th>gender</th>\n",
       "      <th>fitness_test_date</th>\n",
       "    </tr>\n",
       "  </thead>\n",
       "  <tbody>\n",
       "    <tr>\n",
       "      <th>1931</th>\n",
       "      <td>Lonnie</td>\n",
       "      <td>Maxwell</td>\n",
       "      <td>LMaxwell1979@gmail.com</td>\n",
       "      <td>male</td>\n",
       "      <td>2017-09-23</td>\n",
       "    </tr>\n",
       "    <tr>\n",
       "      <th>1623</th>\n",
       "      <td>Lena</td>\n",
       "      <td>Battle</td>\n",
       "      <td>LenaBattle81@gmail.com</td>\n",
       "      <td>female</td>\n",
       "      <td>2017-08-11</td>\n",
       "    </tr>\n",
       "  </tbody>\n",
       "</table>\n",
       "</div>"
      ],
      "text/plain": [
       "     first_name last_name                   email  gender fitness_test_date\n",
       "1931     Lonnie   Maxwell  LMaxwell1979@gmail.com    male        2017-09-23\n",
       "1623       Lena    Battle  LenaBattle81@gmail.com  female        2017-08-11"
      ]
     },
     "execution_count": 3,
     "metadata": {},
     "output_type": "execute_result"
    }
   ],
   "source": [
    "fitness_tests=pd.read_csv(\"fitness_tests.csv\")\n",
    "fitness_tests.sample(2)"
   ]
  },
  {
   "cell_type": "markdown",
   "metadata": {},
   "source": [
    "#### Purchases dataset"
   ]
  },
  {
   "cell_type": "code",
   "execution_count": 4,
   "metadata": {},
   "outputs": [
    {
     "data": {
      "text/html": [
       "<div>\n",
       "<style scoped>\n",
       "    .dataframe tbody tr th:only-of-type {\n",
       "        vertical-align: middle;\n",
       "    }\n",
       "\n",
       "    .dataframe tbody tr th {\n",
       "        vertical-align: top;\n",
       "    }\n",
       "\n",
       "    .dataframe thead th {\n",
       "        text-align: right;\n",
       "    }\n",
       "</style>\n",
       "<table border=\"1\" class=\"dataframe\">\n",
       "  <thead>\n",
       "    <tr style=\"text-align: right;\">\n",
       "      <th></th>\n",
       "      <th>first_name</th>\n",
       "      <th>last_name</th>\n",
       "      <th>email</th>\n",
       "      <th>gender</th>\n",
       "      <th>purchase_date</th>\n",
       "    </tr>\n",
       "  </thead>\n",
       "  <tbody>\n",
       "    <tr>\n",
       "      <th>0</th>\n",
       "      <td>Roy</td>\n",
       "      <td>Abbott</td>\n",
       "      <td>RoyAbbott32@gmail.com</td>\n",
       "      <td>male</td>\n",
       "      <td>2017-08-18</td>\n",
       "    </tr>\n",
       "    <tr>\n",
       "      <th>1</th>\n",
       "      <td>Roberta</td>\n",
       "      <td>Acevedo</td>\n",
       "      <td>RA8063@gmail.com</td>\n",
       "      <td>female</td>\n",
       "      <td>2017-09-16</td>\n",
       "    </tr>\n",
       "  </tbody>\n",
       "</table>\n",
       "</div>"
      ],
      "text/plain": [
       "  first_name last_name                  email  gender purchase_date\n",
       "0        Roy    Abbott  RoyAbbott32@gmail.com    male    2017-08-18\n",
       "1    Roberta   Acevedo       RA8063@gmail.com  female    2017-09-16"
      ]
     },
     "execution_count": 4,
     "metadata": {},
     "output_type": "execute_result"
    }
   ],
   "source": [
    "purchases=pd.read_csv(\"purchases.csv\")\n",
    "purchases.head(2)"
   ]
  },
  {
   "cell_type": "markdown",
   "metadata": {},
   "source": [
    "#### Visits dataset"
   ]
  },
  {
   "cell_type": "code",
   "execution_count": 5,
   "metadata": {},
   "outputs": [
    {
     "data": {
      "text/html": [
       "<div>\n",
       "<style scoped>\n",
       "    .dataframe tbody tr th:only-of-type {\n",
       "        vertical-align: middle;\n",
       "    }\n",
       "\n",
       "    .dataframe tbody tr th {\n",
       "        vertical-align: top;\n",
       "    }\n",
       "\n",
       "    .dataframe thead th {\n",
       "        text-align: right;\n",
       "    }\n",
       "</style>\n",
       "<table border=\"1\" class=\"dataframe\">\n",
       "  <thead>\n",
       "    <tr style=\"text-align: right;\">\n",
       "      <th></th>\n",
       "      <th>first_name</th>\n",
       "      <th>last_name</th>\n",
       "      <th>email</th>\n",
       "      <th>gender</th>\n",
       "      <th>visit_date</th>\n",
       "    </tr>\n",
       "  </thead>\n",
       "  <tbody>\n",
       "    <tr>\n",
       "      <th>0</th>\n",
       "      <td>Karen</td>\n",
       "      <td>Manning</td>\n",
       "      <td>Karen.Manning@gmail.com</td>\n",
       "      <td>female</td>\n",
       "      <td>5-1-17</td>\n",
       "    </tr>\n",
       "    <tr>\n",
       "      <th>1</th>\n",
       "      <td>Annette</td>\n",
       "      <td>Boone</td>\n",
       "      <td>AB9982@gmail.com</td>\n",
       "      <td>female</td>\n",
       "      <td>5-1-17</td>\n",
       "    </tr>\n",
       "  </tbody>\n",
       "</table>\n",
       "</div>"
      ],
      "text/plain": [
       "  first_name last_name                    email  gender visit_date\n",
       "0      Karen   Manning  Karen.Manning@gmail.com  female     5-1-17\n",
       "1    Annette     Boone         AB9982@gmail.com  female     5-1-17"
      ]
     },
     "execution_count": 5,
     "metadata": {},
     "output_type": "execute_result"
    }
   ],
   "source": [
    "visits=pd.read_csv(\"visits.csv\")\n",
    "visits.head(2)"
   ]
  },
  {
   "cell_type": "markdown",
   "metadata": {},
   "source": [
    "## Join all of your data"
   ]
  },
  {
   "cell_type": "markdown",
   "metadata": {},
   "source": [
    "It would be helpful to have a single DataFrame with all of this data. \n",
    "\n",
    "Create a DataFrame containing all of this data. Keep in mind that not all visits in **visits.csv** occurred during the A/B test. You’ll only want to pull data where `visit_date` is on or after 7-1-17.\n",
    "\n",
    "\n",
    "You'll need the following columns:\n",
    "\n",
    "* `visits.first_name`\n",
    "* `visits.last_name`\n",
    "* `visits.gender`\n",
    "* `visits.email`\n",
    "* `visits.visit_date`\n",
    "* `fitness_tests.fitness_test_date`\n",
    "* `applications.application_date`\n",
    "* `purchases.purchase_date`"
   ]
  },
  {
   "cell_type": "code",
   "execution_count": 6,
   "metadata": {},
   "outputs": [
    {
     "data": {
      "text/html": [
       "<div>\n",
       "<style scoped>\n",
       "    .dataframe tbody tr th:only-of-type {\n",
       "        vertical-align: middle;\n",
       "    }\n",
       "\n",
       "    .dataframe tbody tr th {\n",
       "        vertical-align: top;\n",
       "    }\n",
       "\n",
       "    .dataframe thead th {\n",
       "        text-align: right;\n",
       "    }\n",
       "</style>\n",
       "<table border=\"1\" class=\"dataframe\">\n",
       "  <thead>\n",
       "    <tr style=\"text-align: right;\">\n",
       "      <th></th>\n",
       "      <th>first_name</th>\n",
       "      <th>last_name</th>\n",
       "      <th>email</th>\n",
       "      <th>gender</th>\n",
       "      <th>visit_date</th>\n",
       "    </tr>\n",
       "  </thead>\n",
       "  <tbody>\n",
       "    <tr>\n",
       "      <th>1000</th>\n",
       "      <td>Kim</td>\n",
       "      <td>Walter</td>\n",
       "      <td>KimWalter58@gmail.com</td>\n",
       "      <td>female</td>\n",
       "      <td>7-1-17</td>\n",
       "    </tr>\n",
       "    <tr>\n",
       "      <th>1001</th>\n",
       "      <td>Tom</td>\n",
       "      <td>Webster</td>\n",
       "      <td>TW3857@gmail.com</td>\n",
       "      <td>male</td>\n",
       "      <td>7-1-17</td>\n",
       "    </tr>\n",
       "  </tbody>\n",
       "</table>\n",
       "</div>"
      ],
      "text/plain": [
       "     first_name last_name                  email  gender visit_date\n",
       "1000        Kim    Walter  KimWalter58@gmail.com  female     7-1-17\n",
       "1001        Tom   Webster       TW3857@gmail.com    male     7-1-17"
      ]
     },
     "execution_count": 6,
     "metadata": {},
     "output_type": "execute_result"
    }
   ],
   "source": [
    "#our visits data on or after 7-1-17\n",
    "visits=visits[visits.visit_date >= '7-1-17']\n",
    "visits.head(2)"
   ]
  },
  {
   "cell_type": "code",
   "execution_count": 7,
   "metadata": {},
   "outputs": [],
   "source": [
    "#Let's merge all four DataFrames in one dataframe called (data)\n",
    "data=visits.merge(fitness_tests,on=['first_name', 'last_name', 'email', 'gender'], how='left').merge(\n",
    "    applications,on=['first_name', 'last_name', 'email', 'gender'], how='left').merge(\n",
    "    purchases,on=['first_name', 'last_name', 'email', 'gender'], how='left')"
   ]
  },
  {
   "cell_type": "code",
   "execution_count": 8,
   "metadata": {},
   "outputs": [
    {
     "data": {
      "text/plain": [
       "(5004, 8)"
      ]
     },
     "execution_count": 8,
     "metadata": {},
     "output_type": "execute_result"
    }
   ],
   "source": [
    "data.shape"
   ]
  },
  {
   "cell_type": "code",
   "execution_count": 9,
   "metadata": {
    "scrolled": true
   },
   "outputs": [
    {
     "data": {
      "text/html": [
       "<div>\n",
       "<style scoped>\n",
       "    .dataframe tbody tr th:only-of-type {\n",
       "        vertical-align: middle;\n",
       "    }\n",
       "\n",
       "    .dataframe tbody tr th {\n",
       "        vertical-align: top;\n",
       "    }\n",
       "\n",
       "    .dataframe thead th {\n",
       "        text-align: right;\n",
       "    }\n",
       "</style>\n",
       "<table border=\"1\" class=\"dataframe\">\n",
       "  <thead>\n",
       "    <tr style=\"text-align: right;\">\n",
       "      <th></th>\n",
       "      <th>first_name</th>\n",
       "      <th>last_name</th>\n",
       "      <th>email</th>\n",
       "      <th>gender</th>\n",
       "      <th>visit_date</th>\n",
       "      <th>fitness_test_date</th>\n",
       "      <th>application_date</th>\n",
       "      <th>purchase_date</th>\n",
       "    </tr>\n",
       "  </thead>\n",
       "  <tbody>\n",
       "    <tr>\n",
       "      <th>4897</th>\n",
       "      <td>Ronnie</td>\n",
       "      <td>Benson</td>\n",
       "      <td>Ronnie.Benson@gmail.com</td>\n",
       "      <td>male</td>\n",
       "      <td>9-8-17</td>\n",
       "      <td>2017-09-09</td>\n",
       "      <td>NaN</td>\n",
       "      <td>NaN</td>\n",
       "    </tr>\n",
       "    <tr>\n",
       "      <th>4687</th>\n",
       "      <td>Sonia</td>\n",
       "      <td>Duffy</td>\n",
       "      <td>SD6364@gmail.com</td>\n",
       "      <td>female</td>\n",
       "      <td>9-4-17</td>\n",
       "      <td>2017-09-07</td>\n",
       "      <td>NaN</td>\n",
       "      <td>NaN</td>\n",
       "    </tr>\n",
       "    <tr>\n",
       "      <th>4989</th>\n",
       "      <td>Luis</td>\n",
       "      <td>Horne</td>\n",
       "      <td>LH9941@outlook.com</td>\n",
       "      <td>male</td>\n",
       "      <td>9-9-17</td>\n",
       "      <td>NaN</td>\n",
       "      <td>NaN</td>\n",
       "      <td>NaN</td>\n",
       "    </tr>\n",
       "  </tbody>\n",
       "</table>\n",
       "</div>"
      ],
      "text/plain": [
       "     first_name last_name                    email  gender visit_date  \\\n",
       "4897     Ronnie    Benson  Ronnie.Benson@gmail.com    male     9-8-17   \n",
       "4687      Sonia     Duffy         SD6364@gmail.com  female     9-4-17   \n",
       "4989       Luis     Horne       LH9941@outlook.com    male     9-9-17   \n",
       "\n",
       "     fitness_test_date application_date purchase_date  \n",
       "4897        2017-09-09              NaN           NaN  \n",
       "4687        2017-09-07              NaN           NaN  \n",
       "4989               NaN              NaN           NaN  "
      ]
     },
     "execution_count": 9,
     "metadata": {},
     "output_type": "execute_result"
    }
   ],
   "source": [
    "data.sample(3)"
   ]
  },
  {
   "cell_type": "code",
   "execution_count": 10,
   "metadata": {},
   "outputs": [
    {
     "name": "stdout",
     "output_type": "stream",
     "text": [
      "No of customers in our data is 5004\n"
     ]
    }
   ],
   "source": [
    "print('No of customers in our data is', data.shape[0])"
   ]
  },
  {
   "cell_type": "markdown",
   "metadata": {},
   "source": [
    "## Visualize the Groups"
   ]
  },
  {
   "cell_type": "markdown",
   "metadata": {},
   "source": [
    "Having compiled the DataFrame we can use to begin our project.\n",
    "\n",
    "Let's Make at least one visualization that depicts the distribution of potential customers that were given a fitness test and those that were not."
   ]
  },
  {
   "cell_type": "markdown",
   "metadata": {},
   "source": [
    "To conduct the A/B test we need to determine which customers were given a fitness test. We'll use the variable containing fitness test dates to create a new variable with values of 'A' if the fitness test date variable is not None, and 'B' if the fitness test date variable is None."
   ]
  },
  {
   "cell_type": "code",
   "execution_count": 11,
   "metadata": {},
   "outputs": [],
   "source": [
    "data['a/b testing groups']=data.fitness_test_date.apply(lambda x:'A' if pd.notnull(x) else 'B')"
   ]
  },
  {
   "cell_type": "code",
   "execution_count": 12,
   "metadata": {
    "scrolled": true
   },
   "outputs": [
    {
     "data": {
      "text/html": [
       "<div>\n",
       "<style scoped>\n",
       "    .dataframe tbody tr th:only-of-type {\n",
       "        vertical-align: middle;\n",
       "    }\n",
       "\n",
       "    .dataframe tbody tr th {\n",
       "        vertical-align: top;\n",
       "    }\n",
       "\n",
       "    .dataframe thead th {\n",
       "        text-align: right;\n",
       "    }\n",
       "</style>\n",
       "<table border=\"1\" class=\"dataframe\">\n",
       "  <thead>\n",
       "    <tr style=\"text-align: right;\">\n",
       "      <th></th>\n",
       "      <th>first_name</th>\n",
       "      <th>last_name</th>\n",
       "      <th>email</th>\n",
       "      <th>gender</th>\n",
       "      <th>visit_date</th>\n",
       "      <th>fitness_test_date</th>\n",
       "      <th>application_date</th>\n",
       "      <th>purchase_date</th>\n",
       "      <th>a/b testing groups</th>\n",
       "    </tr>\n",
       "  </thead>\n",
       "  <tbody>\n",
       "    <tr>\n",
       "      <th>2557</th>\n",
       "      <td>Colleen</td>\n",
       "      <td>Hubbard</td>\n",
       "      <td>CH1920@gmail.com</td>\n",
       "      <td>female</td>\n",
       "      <td>8-24-17</td>\n",
       "      <td>NaN</td>\n",
       "      <td>NaN</td>\n",
       "      <td>NaN</td>\n",
       "      <td>B</td>\n",
       "    </tr>\n",
       "    <tr>\n",
       "      <th>4565</th>\n",
       "      <td>Ron</td>\n",
       "      <td>Hendricks</td>\n",
       "      <td>RHendricks1994@gmail.com</td>\n",
       "      <td>male</td>\n",
       "      <td>9-29-17</td>\n",
       "      <td>NaN</td>\n",
       "      <td>NaN</td>\n",
       "      <td>NaN</td>\n",
       "      <td>B</td>\n",
       "    </tr>\n",
       "  </tbody>\n",
       "</table>\n",
       "</div>"
      ],
      "text/plain": [
       "     first_name  last_name                     email  gender visit_date  \\\n",
       "2557    Colleen    Hubbard          CH1920@gmail.com  female    8-24-17   \n",
       "4565        Ron  Hendricks  RHendricks1994@gmail.com    male    9-29-17   \n",
       "\n",
       "     fitness_test_date application_date purchase_date a/b testing groups  \n",
       "2557               NaN              NaN           NaN                  B  \n",
       "4565               NaN              NaN           NaN                  B  "
      ]
     },
     "execution_count": 12,
     "metadata": {},
     "output_type": "execute_result"
    }
   ],
   "source": [
    "data.sample(2)"
   ]
  },
  {
   "cell_type": "code",
   "execution_count": 13,
   "metadata": {},
   "outputs": [
    {
     "name": "stdout",
     "output_type": "stream",
     "text": [
      "A    2504\n",
      "B    2500\n",
      "Name: a/b testing groups, dtype: int64\n",
      "********************\n",
      "A    50.039968\n",
      "B    49.960032\n",
      "Name: a/b testing groups, dtype: float64\n"
     ]
    }
   ],
   "source": [
    "#Let's check no of customers in each group and their percentage in our data\n",
    "print(data['a/b testing groups'].value_counts())\n",
    "print('*'*20)\n",
    "print(data['a/b testing groups'].value_counts(normalize=True)*100)"
   ]
  },
  {
   "cell_type": "code",
   "execution_count": 28,
   "metadata": {},
   "outputs": [
    {
     "data": {
      "image/png": "[encoded data removed]",
      "text/plain": [
       "<Figure size 400x500 with 1 Axes>"
      ]
     },
     "metadata": {},
     "output_type": "display_data"
    }
   ],
   "source": [
    "#let's make a countplot visualization for the 2 groups customers number.\n",
    "plt.figure(figsize=(4,5))\n",
    "A_B_plot=sns.countplot(x='a/b testing groups',data=data)\n",
    "for p in A_B_plot.patches:\n",
    "    A_B_plot.annotate(format(p.get_height(), '.0f'), \n",
    "                   (p.get_x() + p.get_width() / 2., p.get_height()), \n",
    "                   ha = 'center', va = 'center', \n",
    "                   xytext = (0, 9), \n",
    "                   textcoords = 'offset points')"
   ]
  },
  {
   "cell_type": "code",
   "execution_count": 31,
   "metadata": {},
   "outputs": [
    {
     "data": {
      "image/png": "[encoded data removed]",
      "text/plain": [
       "<Figure size 640x480 with 1 Axes>"
      ]
     },
     "metadata": {},
     "output_type": "display_data"
    }
   ],
   "source": [
    "#let's make a pie chart for the 2 groups customers number.\n",
    "# Create a  of test group\n",
    "plt.pie(data['a/b testing groups'].value_counts(), labels=['A', 'B'], autopct='%0.2f%%')\n",
    "plt.axis('equal')\n",
    "plt.show()"
   ]
  },
  {
   "cell_type": "markdown",
   "metadata": {},
   "source": [
    "### Sounds great! Our two groups are almost equally splitted in our dataset"
   ]
  },
  {
   "cell_type": "markdown",
   "metadata": {},
   "source": [
    "# A/B testing related to no of applications"
   ]
  },
  {
   "cell_type": "markdown",
   "metadata": {},
   "source": [
    "### Let's determine the no and percentage of applications for the two groups"
   ]
  },
  {
   "cell_type": "code",
   "execution_count": 36,
   "metadata": {},
   "outputs": [
    {
     "data": {
      "text/html": [
       "<div>\n",
       "<style scoped>\n",
       "    .dataframe tbody tr th:only-of-type {\n",
       "        vertical-align: middle;\n",
       "    }\n",
       "\n",
       "    .dataframe tbody tr th {\n",
       "        vertical-align: top;\n",
       "    }\n",
       "\n",
       "    .dataframe thead th {\n",
       "        text-align: right;\n",
       "    }\n",
       "</style>\n",
       "<table border=\"1\" class=\"dataframe\">\n",
       "  <thead>\n",
       "    <tr style=\"text-align: right;\">\n",
       "      <th>is application</th>\n",
       "      <th>a/b testing groups</th>\n",
       "      <th>Application</th>\n",
       "      <th>No Application</th>\n",
       "      <th>Total</th>\n",
       "      <th>Applications_percentage</th>\n",
       "    </tr>\n",
       "  </thead>\n",
       "  <tbody>\n",
       "    <tr>\n",
       "      <th>0</th>\n",
       "      <td>A</td>\n",
       "      <td>250</td>\n",
       "      <td>2254</td>\n",
       "      <td>2504</td>\n",
       "      <td>9.984026</td>\n",
       "    </tr>\n",
       "    <tr>\n",
       "      <th>1</th>\n",
       "      <td>B</td>\n",
       "      <td>325</td>\n",
       "      <td>2175</td>\n",
       "      <td>2500</td>\n",
       "      <td>13.000000</td>\n",
       "    </tr>\n",
       "  </tbody>\n",
       "</table>\n",
       "</div>"
      ],
      "text/plain": [
       "is application a/b testing groups  Application  No Application  Total  \\\n",
       "0                               A          250            2254   2504   \n",
       "1                               B          325            2175   2500   \n",
       "\n",
       "is application  Applications_percentage  \n",
       "0                              9.984026  \n",
       "1                             13.000000  "
      ]
     },
     "execution_count": 36,
     "metadata": {},
     "output_type": "execute_result"
    }
   ],
   "source": [
    "#Let's create a column related to applications\n",
    "data['is application']=data.application_date.apply(lambda x:'Application' if pd.notnull(x) else 'No Application')\n",
    "\n",
    "#Let's create a dataframe called ( apps_count) related to no of applications for the 2 groups\n",
    "apps_count=data.groupby(['a/b testing groups', 'is application'])\\\n",
    "               .first_name.count().reset_index()\n",
    "\n",
    "#Let's create a pivot table for the apps count for easily readability\n",
    "apps_pivot= app_counts.pivot(columns='is application',\n",
    "                            index='a/b testing groups',\n",
    "                            values='first_name')\\\n",
    "            .reset_index()\n",
    "#Let's create a column related to the total number of applications & No applications\n",
    "apps_pivot['Total']=apps_pivot.Application + apps_pivot['No Application']\n",
    "\n",
    "#Let's determine the percentage of applications for the  two groups\n",
    "apps_pivot['Applications_percentage']=(apps_pivot.Application/apps_pivot.Total)*100\n",
    "\n",
    "#view the apps_pivot\n",
    "apps_pivot"
   ]
  },
  {
   "cell_type": "markdown",
   "metadata": {},
   "source": [
    "It sounds that more people from Group B turned in application filling phase than Group A but we need to know if this difference is statistically significant or not."
   ]
  },
  {
   "cell_type": "markdown",
   "metadata": {},
   "source": [
    "## Determine the statistical significance of applications"
   ]
  },
  {
   "cell_type": "markdown",
   "metadata": {},
   "source": [
    "Having calculated the difference in who turned in an application between groups, determine if this difference is statistically significant.\n",
    "Since the difference is between 2 catogerical variables, we will use chi_square test to calculate the p-value and compare it to our significance level set at 0.5"
   ]
  },
  {
   "cell_type": "code",
   "execution_count": 37,
   "metadata": {
    "ExecuteTime": {
     "end_time": "2020-12-22T14:33:53.467891Z",
     "start_time": "2020-12-22T14:33:53.462100Z"
    }
   },
   "outputs": [
    {
     "data": {
      "text/plain": [
       "Chi2ContingencyResult(statistic=10.893961295282612, pvalue=0.0009647827600722304, dof=1, expected_freq=array([[ 287.72981615, 2216.27018385],\n",
       "       [ 287.27018385, 2212.72981615]]))"
      ]
     },
     "execution_count": 37,
     "metadata": {},
     "output_type": "execute_result"
    }
   ],
   "source": [
    "#Let's import our module containing chi square test\n",
    "from scipy.stats import chi2_contingency\n",
    "\n",
    "#Let's assign our contingancy table\n",
    "cont_table=[[250,2254],[325,2175]]\n",
    "\n",
    "#determine p-value\n",
    "chi2_contingency(cont_table)"
   ]
  },
  {
   "cell_type": "markdown",
   "metadata": {},
   "source": [
    "**Since the p-value ( 0.0009647827600722304 ) is less than our significance level set at 0.5, it indicates that there is a statistically signifant difference between the two groups related to no of applications.**"
   ]
  },
  {
   "cell_type": "markdown",
   "metadata": {},
   "source": [
    "## A/B testing related to no of memberships from applications"
   ]
  },
  {
   "cell_type": "markdown",
   "metadata": {},
   "source": [
    "### Let's determine the no and percentage of memberships from applications for the two groups"
   ]
  },
  {
   "cell_type": "code",
   "execution_count": 50,
   "metadata": {},
   "outputs": [
    {
     "data": {
      "text/html": [
       "<div>\n",
       "<style scoped>\n",
       "    .dataframe tbody tr th:only-of-type {\n",
       "        vertical-align: middle;\n",
       "    }\n",
       "\n",
       "    .dataframe tbody tr th {\n",
       "        vertical-align: top;\n",
       "    }\n",
       "\n",
       "    .dataframe thead th {\n",
       "        text-align: right;\n",
       "    }\n",
       "</style>\n",
       "<table border=\"1\" class=\"dataframe\">\n",
       "  <thead>\n",
       "    <tr style=\"text-align: right;\">\n",
       "      <th>is_member</th>\n",
       "      <th>a/b testing groups</th>\n",
       "      <th>Member</th>\n",
       "      <th>Not Member</th>\n",
       "      <th>Total</th>\n",
       "      <th>Members_percentage</th>\n",
       "    </tr>\n",
       "  </thead>\n",
       "  <tbody>\n",
       "    <tr>\n",
       "      <th>0</th>\n",
       "      <td>A</td>\n",
       "      <td>200</td>\n",
       "      <td>50</td>\n",
       "      <td>250</td>\n",
       "      <td>80.000000</td>\n",
       "    </tr>\n",
       "    <tr>\n",
       "      <th>1</th>\n",
       "      <td>B</td>\n",
       "      <td>250</td>\n",
       "      <td>75</td>\n",
       "      <td>325</td>\n",
       "      <td>76.923077</td>\n",
       "    </tr>\n",
       "  </tbody>\n",
       "</table>\n",
       "</div>"
      ],
      "text/plain": [
       "is_member a/b testing groups  Member  Not Member  Total  Members_percentage\n",
       "0                          A     200          50    250           80.000000\n",
       "1                          B     250          75    325           76.923077"
      ]
     },
     "execution_count": 50,
     "metadata": {},
     "output_type": "execute_result"
    }
   ],
   "source": [
    "#Let's create a column related to no  memberships from applications\n",
    "data['is_member']=data.purchase_date.apply(lambda x:'Member' if pd.notnull(x) else 'Not Member')\n",
    "\n",
    "#Let's create a dataframe called ( just_apps) related to customers who filled out an application\n",
    "just_apps=data[data['is application']=='Application']\n",
    "\n",
    "member_count=just_apps.groupby(['a/b testing groups', 'is_member'])\\\n",
    "               .first_name.count().reset_index()\n",
    "\n",
    "#Let's create a pivot table for the apps count for easily readability\n",
    "member_pivot= member_count.pivot(columns='is_member',\n",
    "                            index='a/b testing groups',\n",
    "                            values='first_name')\\\n",
    "            .reset_index()\n",
    "\n",
    "#Let's create a column related to the total number of memberships from applications of the 2 groups\n",
    "member_pivot['Total']=member_pivot.Member + member_pivot['Not Member']\n",
    "\n",
    "#Let's determine the percentage of applications for the  two groups\n",
    "member_pivot['Members_percentage']=(member_pivot.Member/member_pivot.Total)*100\n",
    "\n",
    "#view the apps_pivot\n",
    "member_pivot"
   ]
  },
  {
   "cell_type": "markdown",
   "metadata": {},
   "source": [
    "It sounds that people who took the fitness test were more likely to purchase a membership if they picked up an application but we need to know if this difference is statistically significant or not."
   ]
  },
  {
   "cell_type": "markdown",
   "metadata": {},
   "source": [
    "## Determine the statistical significance of memberships from applications"
   ]
  },
  {
   "cell_type": "markdown",
   "metadata": {
    "ExecuteTime": {
     "end_time": "2020-12-22T14:22:22.296025Z",
     "start_time": "2020-12-22T14:22:22.284482Z"
    }
   },
   "source": [
    "Calculate if the difference between the following groups is statistically significant: \n",
    "- The customers that picked up an application and took a fitness test.\n",
    "- The customers that did not take a fitness test and picked up an application."
   ]
  },
  {
   "cell_type": "code",
   "execution_count": 51,
   "metadata": {},
   "outputs": [
    {
     "data": {
      "text/plain": [
       "Chi2ContingencyResult(statistic=0.615869230769231, pvalue=0.43258646051083327, dof=1, expected_freq=array([[195.65217391,  54.34782609],\n",
       "       [254.34782609,  70.65217391]]))"
      ]
     },
     "execution_count": 51,
     "metadata": {},
     "output_type": "execute_result"
    }
   ],
   "source": [
    "#Let's assign our contingancy table\n",
    "cont_table2=[[200,50],[250,75]]\n",
    "\n",
    "#determine p-value\n",
    "chi2_contingency(cont_table2)"
   ]
  },
  {
   "cell_type": "markdown",
   "metadata": {},
   "source": [
    "Since the p-value ( 0.43258646051083327 ) is greater than our significance level set at 0.5, it indicates that there **is not** a statistically signifant difference between the two groups related to no of memberships from applications."
   ]
  },
  {
   "cell_type": "markdown",
   "metadata": {},
   "source": [
    "## A/B testing related to no of all memberships from all visitors"
   ]
  },
  {
   "cell_type": "markdown",
   "metadata": {},
   "source": [
    "### Let's determine the no and percentage of all memberships from all visitors"
   ]
  },
  {
   "cell_type": "code",
   "execution_count": 52,
   "metadata": {},
   "outputs": [
    {
     "data": {
      "text/html": [
       "<div>\n",
       "<style scoped>\n",
       "    .dataframe tbody tr th:only-of-type {\n",
       "        vertical-align: middle;\n",
       "    }\n",
       "\n",
       "    .dataframe tbody tr th {\n",
       "        vertical-align: top;\n",
       "    }\n",
       "\n",
       "    .dataframe thead th {\n",
       "        text-align: right;\n",
       "    }\n",
       "</style>\n",
       "<table border=\"1\" class=\"dataframe\">\n",
       "  <thead>\n",
       "    <tr style=\"text-align: right;\">\n",
       "      <th>is_member</th>\n",
       "      <th>a/b testing groups</th>\n",
       "      <th>Member</th>\n",
       "      <th>Not Member</th>\n",
       "      <th>Total</th>\n",
       "      <th>Members_percentage</th>\n",
       "    </tr>\n",
       "  </thead>\n",
       "  <tbody>\n",
       "    <tr>\n",
       "      <th>0</th>\n",
       "      <td>A</td>\n",
       "      <td>200</td>\n",
       "      <td>2304</td>\n",
       "      <td>2504</td>\n",
       "      <td>7.98722</td>\n",
       "    </tr>\n",
       "    <tr>\n",
       "      <th>1</th>\n",
       "      <td>B</td>\n",
       "      <td>250</td>\n",
       "      <td>2250</td>\n",
       "      <td>2500</td>\n",
       "      <td>10.00000</td>\n",
       "    </tr>\n",
       "  </tbody>\n",
       "</table>\n",
       "</div>"
      ],
      "text/plain": [
       "is_member a/b testing groups  Member  Not Member  Total  Members_percentage\n",
       "0                          A     200        2304   2504             7.98722\n",
       "1                          B     250        2250   2500            10.00000"
      ]
     },
     "execution_count": 52,
     "metadata": {},
     "output_type": "execute_result"
    }
   ],
   "source": [
    "all_members_count=data.groupby(['a/b testing groups', 'is_member'])\\\n",
    "               .first_name.count().reset_index()\n",
    "\n",
    "#Let's create a pivot table for the apps count for easily readability\n",
    "all_members_pivot= all_members_count.pivot(columns='is_member',\n",
    "                            index='a/b testing groups',\n",
    "                            values='first_name')\\\n",
    "            .reset_index()\n",
    "\n",
    "#Let's create a column related to the total number of all memberships from all visitors\n",
    "all_members_pivot['Total']=all_members_pivot.Member + all_members_pivot['Not Member']\n",
    "\n",
    "#Let's determine the percentage of all memberships from all visitors for the  two groups\n",
    "all_members_pivot['Members_percentage']=(all_members_pivot.Member/all_members_pivot.Total)*100\n",
    "\n",
    "#view the apps_pivot\n",
    "all_members_pivot"
   ]
  },
  {
   "cell_type": "markdown",
   "metadata": {},
   "source": [
    "It sounds that people of Group B ( not taking fitness test ) were more likely to purchase a membership than the people of Group A ( taking fitness test ) which proves that Janest's hypothesis but we need to know if this difference is statistically significant or not."
   ]
  },
  {
   "cell_type": "code",
   "execution_count": 53,
   "metadata": {},
   "outputs": [
    {
     "data": {
      "text/plain": [
       "Chi2ContingencyResult(statistic=5.949182292591156, pvalue=0.014724114645783203, dof=1, expected_freq=array([[ 225.17985612, 2278.82014388],\n",
       "       [ 224.82014388, 2275.17985612]]))"
      ]
     },
     "execution_count": 53,
     "metadata": {},
     "output_type": "execute_result"
    }
   ],
   "source": [
    "#Let's assign our contingancy table\n",
    "cont_table3=[[200,2304],[250,2250]]\n",
    "\n",
    "#determine p-value\n",
    "chi2_contingency(cont_table3)"
   ]
  },
  {
   "cell_type": "markdown",
   "metadata": {},
   "source": [
    "A p-value of 0.0147 relative to a significance threshold of 0.05 indicates that there is a statistically signifant difference between the two groups. This informs us that we should not reject Janet's hypothesis that visitors assigned to Group B will be more likely to eventually purchase a membership to MuscleHub than visitors assigned to Group A.\n",
    "\n",
    "However, it is important to note that when assessing the groups among those customers that filled out an application, those that completed a fitness test (Group A), were more likely to make a purchase than those customers that did not complete a fitness test (Group B)."
   ]
  },
  {
   "cell_type": "markdown",
   "metadata": {},
   "source": [
    "## Visualize the results"
   ]
  },
  {
   "cell_type": "markdown",
   "metadata": {},
   "source": [
    "Create visualizations for Janet that show the difference between Group A (people who were given the fitness test) and Group B (people who were not given the fitness test) at each state of the process:\n",
    "\n",
    "- Percent of visitors who apply.\n",
    "- Percent of applicants who purchase a membership.\n",
    "- Percent of visitors who purchase a membership."
   ]
  },
  {
   "cell_type": "code",
   "execution_count": 64,
   "metadata": {},
   "outputs": [
    {
     "data": {
      "image/png": "[encoded data removed]",
      "text/plain": [
       "<Figure size 640x480 with 1 Axes>"
      ]
     },
     "metadata": {},
     "output_type": "display_data"
    }
   ],
   "source": [
    "# Percent of Visitors who Apply\n",
    "ax = plt.subplot()\n",
    "plt.bar(range(len(apps_pivot)),\n",
    "       apps_pivot['Applications_percentage'].values)\n",
    "ax.set_xticks(range(len(apps_pivot)))\n",
    "ax.set_xticklabels(['Taking fitness Test', 'No taking fitness Test'])\n",
    "ax.set_yticklabels(['0%', '5%', '10%', '15%', '20%','30%','40%','50%'])\n",
    "plt.show()\n",
    "# plt.savefig('percent_visitors_apply.png')"
   ]
  },
  {
   "cell_type": "code",
   "execution_count": 65,
   "metadata": {},
   "outputs": [
    {
     "data": {
      "image/png": "[encoded data removed]",
      "text/plain": [
       "<Figure size 640x480 with 1 Axes>"
      ]
     },
     "metadata": {},
     "output_type": "display_data"
    }
   ],
   "source": [
    "# Percent of Applicants who Purchase\n",
    "ax = plt.subplot()\n",
    "plt.bar(range(len(member_pivot)),\n",
    "       member_pivot['Members_percentage'].values)\n",
    "ax.set_xticks(range(len(member_pivot)))\n",
    "ax.set_xticklabels(['Taking fitness Test', 'Not Taking fitness Test'])\n",
    "ax.set_yticklabels(['0%', '10%', '20%', '30%', '40%', '50%', '60%', '70%', '80%', '90%', '100%'])\n",
    "plt.show()\n",
    "# plt.savefig('percent_apply_purchase.png')"
   ]
  },
  {
   "cell_type": "code",
   "execution_count": 68,
   "metadata": {},
   "outputs": [
    {
     "data": {
      "image/png": "[encoded data removed]",
      "text/plain": [
       "<Figure size 640x480 with 1 Axes>"
      ]
     },
     "metadata": {},
     "output_type": "display_data"
    }
   ],
   "source": [
    "# Percent of Visitors who Purchase\n",
    "ax = plt.subplot()\n",
    "plt.bar(range(len(all_members_pivot)),\n",
    "       all_members_pivot['Members_percentage'].values)\n",
    "ax.set_xticks(range(len(all_members_pivot)))\n",
    "ax.set_xticklabels(['Taking fitness Test', 'Not Taking fitness Test'])\n",
    "ax.set_yticklabels(['0%', '10%', '20%', '30%', '40%', '50%', '60%', '70%', '80%', '90%', '100%'])\n",
    "plt.show()\n",
    "# plt.savefig('percent_visitors_purchase.png')"
   ]
  },
  {
   "cell_type": "markdown",
   "metadata": {},
   "source": [
    "## Congratulations!!"
   ]
  },
  {
   "cell_type": "markdown",
   "metadata": {},
   "source": [
    "Congratulations, your work has been a valuable contribution for Janet to determine MuscleHub's membership process. Janet asks if you would also help her share your work with a presentation. "
   ]
  },
  {
   "cell_type": "markdown",
   "metadata": {},
   "source": [
    "## Challenge Assignment"
   ]
  },
  {
   "cell_type": "markdown",
   "metadata": {},
   "source": [
    "- Develop a presentation that demonstrates your findings to Janet. She has decided that your recommendation will determine if potential customers should take a fitness test as a component of their application. Your presentation should include the following:\n",
    "    - A title slide\n",
    "    - A description of what happened in this A/B test\n",
    "    - A summary of your dataset and any information you think would be helpful background\n",
    "    - The results of the three hypothesis tests that you ran, including an explanation of the type of test that you used and why it was appropriate\n",
    "    - A summary of the qualitative data\n",
    "    - A recommendation for MuscleHub\n",
    "\n",
    "- Create a [wordcloud](https://pypi.org/project/wordcloud/) visualization that Janet can use to create an ad for the MuscleHub Gym with the data in `interviews.txt`. "
   ]
  },
  {
   "cell_type": "code",
   "execution_count": null,
   "metadata": {},
   "outputs": [],
   "source": []
  }
 ],
 "metadata": {
  "kernelspec": {
   "display_name": "Python 3 (ipykernel)",
   "language": "python",
   "name": "python3"
  },
  "language_info": {
   "codemirror_mode": {
    "name": "ipython",
    "version": 3
   },
   "file_extension": ".py",
   "mimetype": "text/x-python",
   "name": "python",
   "nbconvert_exporter": "python",
   "pygments_lexer": "ipython3",
   "version": "3.10.9"
  },
  "toc": {
   "base_numbering": 1,
   "nav_menu": {},
   "number_sections": true,
   "sideBar": true,
   "skip_h1_title": false,
   "title_cell": "Table of Contents",
   "title_sidebar": "Contents",
   "toc_cell": false,
   "toc_position": {},
   "toc_section_display": true,
   "toc_window_display": false
  }
 },
 "nbformat": 4,
 "nbformat_minor": 2
}
